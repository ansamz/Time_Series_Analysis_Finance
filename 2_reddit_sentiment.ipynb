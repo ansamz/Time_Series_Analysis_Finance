{
 "cells": [
  {
   "cell_type": "code",
   "execution_count": 1,
   "metadata": {},
   "outputs": [
    {
     "name": "stderr",
     "output_type": "stream",
     "text": [
      "[nltk_data] Downloading package punkt to\n",
      "[nltk_data]     C:\\Users\\ansam\\AppData\\Roaming\\nltk_data...\n",
      "[nltk_data]   Unzipping tokenizers\\punkt.zip.\n",
      "[nltk_data] Downloading package stopwords to\n",
      "[nltk_data]     C:\\Users\\ansam\\AppData\\Roaming\\nltk_data...\n",
      "[nltk_data]   Unzipping corpora\\stopwords.zip.\n"
     ]
    },
    {
     "data": {
      "text/plain": [
       "True"
      ]
     },
     "execution_count": 1,
     "metadata": {},
     "output_type": "execute_result"
    }
   ],
   "source": [
    "import pandas as pd\n",
    "from bs4 import BeautifulSoup\n",
    "import unicodedata\n",
    "import numpy as np\n",
    "import re\n",
    "import nltk\n",
    "nltk.download('punkt')\n",
    "nltk.download('stopwords')"
   ]
  },
  {
   "cell_type": "markdown",
   "metadata": {},
   "source": [
    "Documentation:\n",
    "\n",
    "* nltk: https://www.nltk.org/\n",
    "* Textblob: https://textblob.readthedocs.io/en/dev/\n",
    "* wordcloud: https://amueller.github.io/word_cloud/"
   ]
  },
  {
   "cell_type": "code",
   "execution_count": 27,
   "metadata": {},
   "outputs": [],
   "source": [
    "from textblob import TextBlob\n",
    "from wordcloud import WordCloud, STOPWORDS"
   ]
  },
  {
   "cell_type": "code",
   "execution_count": 28,
   "metadata": {},
   "outputs": [
    {
     "data": {
      "text/html": [
       "<div>\n",
       "<style scoped>\n",
       "    .dataframe tbody tr th:only-of-type {\n",
       "        vertical-align: middle;\n",
       "    }\n",
       "\n",
       "    .dataframe tbody tr th {\n",
       "        vertical-align: top;\n",
       "    }\n",
       "\n",
       "    .dataframe thead th {\n",
       "        text-align: right;\n",
       "    }\n",
       "</style>\n",
       "<table border=\"1\" class=\"dataframe\">\n",
       "  <thead>\n",
       "    <tr style=\"text-align: right;\">\n",
       "      <th></th>\n",
       "      <th>Unnamed: 0</th>\n",
       "      <th>Index</th>\n",
       "      <th>MSFT.Adjusted</th>\n",
       "      <th>worldnews</th>\n",
       "    </tr>\n",
       "  </thead>\n",
       "  <tbody>\n",
       "    <tr>\n",
       "      <th>0</th>\n",
       "      <td>0</td>\n",
       "      <td>2022-01-03</td>\n",
       "      <td>328.727661</td>\n",
       "      <td>1 Feb 2016 — Find the best posts and communiti...</td>\n",
       "    </tr>\n",
       "    <tr>\n",
       "      <th>1</th>\n",
       "      <td>1</td>\n",
       "      <td>2022-01-04</td>\n",
       "      <td>323.090942</td>\n",
       "      <td>In Portugal, with 89% of the total population ...</td>\n",
       "    </tr>\n",
       "    <tr>\n",
       "      <th>2</th>\n",
       "      <td>2</td>\n",
       "      <td>2022-01-05</td>\n",
       "      <td>310.688141</td>\n",
       "      <td>18 Mar 2021 — Find the best posts and communit...</td>\n",
       "    </tr>\n",
       "    <tr>\n",
       "      <th>3</th>\n",
       "      <td>3</td>\n",
       "      <td>2022-01-06</td>\n",
       "      <td>308.233124</td>\n",
       "      <td>And yet pro israelis and islamophobes are allo...</td>\n",
       "    </tr>\n",
       "    <tr>\n",
       "      <th>4</th>\n",
       "      <td>4</td>\n",
       "      <td>2022-01-07</td>\n",
       "      <td>308.390289</td>\n",
       "      <td>I've taken several rapid tests (4 total at var...</td>\n",
       "    </tr>\n",
       "  </tbody>\n",
       "</table>\n",
       "</div>"
      ],
      "text/plain": [
       "   Unnamed: 0       Index  MSFT.Adjusted  \\\n",
       "0           0  2022-01-03     328.727661   \n",
       "1           1  2022-01-04     323.090942   \n",
       "2           2  2022-01-05     310.688141   \n",
       "3           3  2022-01-06     308.233124   \n",
       "4           4  2022-01-07     308.390289   \n",
       "\n",
       "                                           worldnews  \n",
       "0  1 Feb 2016 — Find the best posts and communiti...  \n",
       "1  In Portugal, with 89% of the total population ...  \n",
       "2  18 Mar 2021 — Find the best posts and communit...  \n",
       "3  And yet pro israelis and islamophobes are allo...  \n",
       "4  I've taken several rapid tests (4 total at var...  "
      ]
     },
     "execution_count": 28,
     "metadata": {},
     "output_type": "execute_result"
    }
   ],
   "source": [
    "data = pd.read_csv('msft_dataworldnews.csv')\n",
    "data.head()"
   ]
  },
  {
   "cell_type": "markdown",
   "metadata": {},
   "source": [
    "## Text Cleaning"
   ]
  },
  {
   "cell_type": "code",
   "execution_count": 29,
   "metadata": {},
   "outputs": [],
   "source": [
    "def strip_html_tags(text):\n",
    "    soup = BeautifulSoup(text, \"html.parser\")\n",
    "    [s.extract() for s in soup(['iframe', 'script'])]\n",
    "    stripped_text = soup.get_text()\n",
    "    stripped_text = re.sub(r'[\\r|\\n|\\r\\n]+', '\\n', stripped_text)\n",
    "    return stripped_text\n",
    "\n",
    "def remove_accented_chars(text):\n",
    "    text = unicodedata.normalize('NFKD', text).encode('ascii', 'ignore').decode('utf-8', 'ignore')\n",
    "    return text\n",
    "\n",
    "def clean_text(text):\n",
    "    text = re.sub(r\"@[A-Za-z0–9]+\", \"\", text) # Remove @mentions replace with blank\n",
    "    text = re.sub(r\"#\", \"\", text) # Remove the ‘#’ symbol, replace with blank\n",
    "    text = re.sub(r\"RT[\\s]+\", \"\", text) # Removing RT, replace with blank\n",
    "    text = re.sub(r\"https?:\\/\\/\\S+\", \"\", text) # Remove the hyperlinks\n",
    "    text = re.sub(r\":\", \"\", text) # Remove :\n",
    "    return text\n",
    "\n",
    "def remove_emojis(text):\n",
    "    emoji_pattern = re.compile(\"[\"\n",
    "    u\"\\U0001F600-\\U0001F64F\" # emoticons\n",
    "    u\"\\U0001F300-\\U0001F5FF\" # symbols & pictographs\n",
    "    u\"\\U0001F680-\\U0001F6FF\" # transport & map symbols\n",
    "    u\"\\U0001F1E0-\\U0001F1FF\" # flags (iOS)\n",
    "    u\"\\U00002500-\\U00002BEF\" # chinese char\n",
    "    u\"\\U00002702-\\U000027B0\"\n",
    "    u\"\\U00002702-\\U000027B0\"\n",
    "    u\"\\U000024C2-\\U0001F251\"\n",
    "    u\"\\U0001f926-\\U0001f937\"\n",
    "    u\"\\U00010000-\\U0010ffff\"\n",
    "    u\"\\u2640-\\u2642\"\n",
    "    u\"\\u2600-\\u2B55\"\n",
    "    u\"\\u200d\"\n",
    "    u\"\\u23cf\"\n",
    "    u\"\\u23e9\"\n",
    "    u\"\\u231a\"\n",
    "    u\"\\ufe0f\" # dingbats\n",
    "    u\"\\u3030\"\n",
    "    \"]+\", flags=re.UNICODE)\n",
    "    return emoji_pattern.sub(r'', text)"
   ]
  },
  {
   "cell_type": "code",
   "execution_count": 30,
   "metadata": {},
   "outputs": [],
   "source": [
    "# stopword removal\n",
    "# not sure if needed it might have a negative impact on the sentiment analysis \n",
    "\n",
    "def remove_stopwords(text, is_lower_case=False, stopwords=None):\n",
    "    if not stopwords:\n",
    "        stopwords = nltk.corpus.stopwords.words('english')\n",
    "    tokens = nltk.word_tokenize(text)\n",
    "    tokens = [token.strip() for token in tokens]\n",
    "    \n",
    "    if is_lower_case:\n",
    "        filtered_tokens = [token for token in tokens if token not in stopwords]\n",
    "    else:\n",
    "        filtered_tokens = [token for token in tokens if token.lower() not in stopwords]\n",
    "    \n",
    "    filtered_text = ' '.join(filtered_tokens)    \n",
    "    return filtered_text"
   ]
  },
  {
   "cell_type": "code",
   "execution_count": 31,
   "metadata": {},
   "outputs": [],
   "source": [
    "data['worldnews'] = data['worldnews'].apply(strip_html_tags)\n",
    "data['worldnews'] = data['worldnews'].apply(remove_accented_chars)\n",
    "data['worldnews'] = data['worldnews'].apply(clean_text)\n",
    "data['worldnews'] = data['worldnews'].apply(remove_emojis)\n",
    "data['worldnews'] = data['worldnews'].apply(remove_stopwords)"
   ]
  },
  {
   "cell_type": "code",
   "execution_count": 32,
   "metadata": {},
   "outputs": [
    {
     "data": {
      "text/html": [
       "<div>\n",
       "<style scoped>\n",
       "    .dataframe tbody tr th:only-of-type {\n",
       "        vertical-align: middle;\n",
       "    }\n",
       "\n",
       "    .dataframe tbody tr th {\n",
       "        vertical-align: top;\n",
       "    }\n",
       "\n",
       "    .dataframe thead th {\n",
       "        text-align: right;\n",
       "    }\n",
       "</style>\n",
       "<table border=\"1\" class=\"dataframe\">\n",
       "  <thead>\n",
       "    <tr style=\"text-align: right;\">\n",
       "      <th></th>\n",
       "      <th>Unnamed: 0</th>\n",
       "      <th>Index</th>\n",
       "      <th>MSFT.Adjusted</th>\n",
       "      <th>worldnews</th>\n",
       "    </tr>\n",
       "  </thead>\n",
       "  <tbody>\n",
       "    <tr>\n",
       "      <th>0</th>\n",
       "      <td>0</td>\n",
       "      <td>2022-01-03</td>\n",
       "      <td>328.727661</td>\n",
       "      <td>1 Feb 2016  Find the best posts and communitie...</td>\n",
       "    </tr>\n",
       "    <tr>\n",
       "      <th>1</th>\n",
       "      <td>1</td>\n",
       "      <td>2022-01-04</td>\n",
       "      <td>323.090942</td>\n",
       "      <td>In Portugal, with 89% of the total population ...</td>\n",
       "    </tr>\n",
       "    <tr>\n",
       "      <th>2</th>\n",
       "      <td>2</td>\n",
       "      <td>2022-01-05</td>\n",
       "      <td>310.688141</td>\n",
       "      <td>18 Mar 2021  Find the best posts and communiti...</td>\n",
       "    </tr>\n",
       "    <tr>\n",
       "      <th>3</th>\n",
       "      <td>3</td>\n",
       "      <td>2022-01-06</td>\n",
       "      <td>308.233124</td>\n",
       "      <td>And yet pro israelis and islamophobes are allo...</td>\n",
       "    </tr>\n",
       "    <tr>\n",
       "      <th>4</th>\n",
       "      <td>4</td>\n",
       "      <td>2022-01-07</td>\n",
       "      <td>308.390289</td>\n",
       "      <td>I've taken several rapid tests (4 total at var...</td>\n",
       "    </tr>\n",
       "  </tbody>\n",
       "</table>\n",
       "</div>"
      ],
      "text/plain": [
       "   Unnamed: 0       Index  MSFT.Adjusted  \\\n",
       "0           0  2022-01-03     328.727661   \n",
       "1           1  2022-01-04     323.090942   \n",
       "2           2  2022-01-05     310.688141   \n",
       "3           3  2022-01-06     308.233124   \n",
       "4           4  2022-01-07     308.390289   \n",
       "\n",
       "                                           worldnews  \n",
       "0  1 Feb 2016  Find the best posts and communitie...  \n",
       "1  In Portugal, with 89% of the total population ...  \n",
       "2  18 Mar 2021  Find the best posts and communiti...  \n",
       "3  And yet pro israelis and islamophobes are allo...  \n",
       "4  I've taken several rapid tests (4 total at var...  "
      ]
     },
     "execution_count": 32,
     "metadata": {},
     "output_type": "execute_result"
    }
   ],
   "source": [
    "data.head()"
   ]
  },
  {
   "cell_type": "code",
   "execution_count": 33,
   "metadata": {},
   "outputs": [],
   "source": [
    "def Subjectivity(text):\n",
    "    return TextBlob(text).sentiment.subjectivity\n",
    "\n",
    "def Polarity(text):\n",
    "    return TextBlob(text).sentiment.polarity\n",
    "\n",
    "def Sentiment(score):\n",
    "    if score < 0:\n",
    "        return 'Negative'\n",
    "    elif score == 0:\n",
    "        return 'Neutral'\n",
    "    else:\n",
    "        return 'Positive'\n"
   ]
  },
  {
   "cell_type": "code",
   "execution_count": 34,
   "metadata": {},
   "outputs": [
    {
     "data": {
      "text/html": [
       "<div>\n",
       "<style scoped>\n",
       "    .dataframe tbody tr th:only-of-type {\n",
       "        vertical-align: middle;\n",
       "    }\n",
       "\n",
       "    .dataframe tbody tr th {\n",
       "        vertical-align: top;\n",
       "    }\n",
       "\n",
       "    .dataframe thead th {\n",
       "        text-align: right;\n",
       "    }\n",
       "</style>\n",
       "<table border=\"1\" class=\"dataframe\">\n",
       "  <thead>\n",
       "    <tr style=\"text-align: right;\">\n",
       "      <th></th>\n",
       "      <th>Unnamed: 0</th>\n",
       "      <th>Index</th>\n",
       "      <th>MSFT.Adjusted</th>\n",
       "      <th>worldnews</th>\n",
       "      <th>Subjectivity</th>\n",
       "      <th>Polarity</th>\n",
       "      <th>Sentiment</th>\n",
       "    </tr>\n",
       "  </thead>\n",
       "  <tbody>\n",
       "    <tr>\n",
       "      <th>0</th>\n",
       "      <td>0</td>\n",
       "      <td>2022-01-03</td>\n",
       "      <td>328.727661</td>\n",
       "      <td>1 Feb 2016  Find the best posts and communitie...</td>\n",
       "      <td>0.416667</td>\n",
       "      <td>0.206944</td>\n",
       "      <td>Positive</td>\n",
       "    </tr>\n",
       "    <tr>\n",
       "      <th>1</th>\n",
       "      <td>1</td>\n",
       "      <td>2022-01-04</td>\n",
       "      <td>323.090942</td>\n",
       "      <td>In Portugal, with 89% of the total population ...</td>\n",
       "      <td>0.510331</td>\n",
       "      <td>0.287190</td>\n",
       "      <td>Positive</td>\n",
       "    </tr>\n",
       "    <tr>\n",
       "      <th>2</th>\n",
       "      <td>2</td>\n",
       "      <td>2022-01-05</td>\n",
       "      <td>310.688141</td>\n",
       "      <td>18 Mar 2021  Find the best posts and communiti...</td>\n",
       "      <td>0.316667</td>\n",
       "      <td>0.058333</td>\n",
       "      <td>Positive</td>\n",
       "    </tr>\n",
       "    <tr>\n",
       "      <th>3</th>\n",
       "      <td>3</td>\n",
       "      <td>2022-01-06</td>\n",
       "      <td>308.233124</td>\n",
       "      <td>And yet pro israelis and islamophobes are allo...</td>\n",
       "      <td>0.448788</td>\n",
       "      <td>0.096136</td>\n",
       "      <td>Positive</td>\n",
       "    </tr>\n",
       "    <tr>\n",
       "      <th>4</th>\n",
       "      <td>4</td>\n",
       "      <td>2022-01-07</td>\n",
       "      <td>308.390289</td>\n",
       "      <td>I've taken several rapid tests (4 total at var...</td>\n",
       "      <td>0.321402</td>\n",
       "      <td>0.129545</td>\n",
       "      <td>Positive</td>\n",
       "    </tr>\n",
       "  </tbody>\n",
       "</table>\n",
       "</div>"
      ],
      "text/plain": [
       "   Unnamed: 0       Index  MSFT.Adjusted  \\\n",
       "0           0  2022-01-03     328.727661   \n",
       "1           1  2022-01-04     323.090942   \n",
       "2           2  2022-01-05     310.688141   \n",
       "3           3  2022-01-06     308.233124   \n",
       "4           4  2022-01-07     308.390289   \n",
       "\n",
       "                                           worldnews  Subjectivity  Polarity  \\\n",
       "0  1 Feb 2016  Find the best posts and communitie...      0.416667  0.206944   \n",
       "1  In Portugal, with 89% of the total population ...      0.510331  0.287190   \n",
       "2  18 Mar 2021  Find the best posts and communiti...      0.316667  0.058333   \n",
       "3  And yet pro israelis and islamophobes are allo...      0.448788  0.096136   \n",
       "4  I've taken several rapid tests (4 total at var...      0.321402  0.129545   \n",
       "\n",
       "  Sentiment  \n",
       "0  Positive  \n",
       "1  Positive  \n",
       "2  Positive  \n",
       "3  Positive  \n",
       "4  Positive  "
      ]
     },
     "execution_count": 34,
     "metadata": {},
     "output_type": "execute_result"
    }
   ],
   "source": [
    "#Now we create a new column for what we just did and add it to the Tweet_df dataframe\n",
    "data['Subjectivity'] = data['worldnews'].apply(Subjectivity)\n",
    "data['Polarity'] = data['worldnews'].apply(Polarity)\n",
    "data['Sentiment'] = data['Polarity'].apply(Sentiment)\n",
    "\n",
    "data.head()"
   ]
  },
  {
   "cell_type": "code",
   "execution_count": 35,
   "metadata": {},
   "outputs": [
    {
     "data": {
      "text/plain": [
       "Sentiment\n",
       "Positive    429\n",
       "Negative     50\n",
       "Neutral       2\n",
       "Name: count, dtype: int64"
      ]
     },
     "execution_count": 35,
     "metadata": {},
     "output_type": "execute_result"
    }
   ],
   "source": [
    "data.Sentiment.value_counts()"
   ]
  }
 ],
 "metadata": {
  "kernelspec": {
   "display_name": "tsp",
   "language": "python",
   "name": "python3"
  },
  "language_info": {
   "codemirror_mode": {
    "name": "ipython",
    "version": 3
   },
   "file_extension": ".py",
   "mimetype": "text/x-python",
   "name": "python",
   "nbconvert_exporter": "python",
   "pygments_lexer": "ipython3",
   "version": "3.11.5"
  }
 },
 "nbformat": 4,
 "nbformat_minor": 2
}
