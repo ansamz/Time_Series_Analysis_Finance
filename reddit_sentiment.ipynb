{
 "cells": [
  {
   "cell_type": "markdown",
   "metadata": {},
   "source": [
    "Documentation\n",
    "\n",
    "https://praw.readthedocs.io/en/stable/getting_started/authentication.html "
   ]
  },
  {
   "cell_type": "code",
   "execution_count": 1,
   "metadata": {},
   "outputs": [],
   "source": [
    "import praw\n",
    "\n",
    "user_agent = \"Reddit_Scrapper 1.0 by u/Ansamzi\"\n",
    "reddit = praw.Reddit(\n",
    "    client_id=\"GxxMVD29d1RBDXIqdjDnjA\",\n",
    "    client_secret=\"zTpzmgGGuSCnL2BlzptPX5yEBC_CCw\",\n",
    "    redirect_uri=\"http://localhost:8080\",\n",
    "    user_agent=user_agent\n",
    "    )"
   ]
  },
  {
   "cell_type": "code",
   "execution_count": 2,
   "metadata": {},
   "outputs": [],
   "source": [
    "import pandas as pd\n",
    "import numpy as np\n",
    "import re\n",
    "from datetime import datetime, timedelta"
   ]
  },
  {
   "cell_type": "code",
   "execution_count": 3,
   "metadata": {},
   "outputs": [],
   "source": [
    "start_date = datetime(2022, 1, 1)\n",
    "end_date = datetime(2023, 6, 30)\n",
    "\n",
    "# Calculate the difference in days\n",
    "days_difference = (end_date - start_date).days"
   ]
  },
  {
   "cell_type": "code",
   "execution_count": 4,
   "metadata": {},
   "outputs": [],
   "source": [
    "start_date = datetime.utcnow() - timedelta(days=days_difference)"
   ]
  },
  {
   "cell_type": "code",
   "execution_count": 5,
   "metadata": {},
   "outputs": [
    {
     "name": "stdout",
     "output_type": "stream",
     "text": [
      "1700366537.0\n",
      "/r/WorldNews Live Thread: Russian Invasion of Ukraine Day 634, Part 1 (Thread #780)\n",
      "17yoiuz\n",
      "WorldNewsMods\n",
      "1700366537.0\n",
      "966\n",
      "0.96\n",
      "https://www.reddit.com/live/18hnzysb1elcs\n",
      "0\n"
     ]
    }
   ],
   "source": [
    "headlines = set()\n",
    "for submission in reddit.subreddit(\"worldnews\").hot(limit=10):\n",
    " print(submission.created_utc)\n",
    " print(submission.title)#Subreddit Title\n",
    " print(submission.id) #ID\n",
    " print(submission.author) #Author of the subreddit\n",
    " print(submission.created_utc) #Date and time being created\n",
    " print(submission.score) # Average Score\n",
    " print(submission.upvote_ratio) # Upvote ratio\n",
    " print(submission.url) # Like to the Subreddit\n",
    " break\n",
    "\n",
    "print(len(headlines))"
   ]
  },
  {
   "cell_type": "code",
   "execution_count": 6,
   "metadata": {},
   "outputs": [
    {
     "name": "stdout",
     "output_type": "stream",
     "text": [
      "1208\n"
     ]
    }
   ],
   "source": [
    "headlines = set()\n",
    "for submission in reddit.subreddit(\"worldnews\").hot(limit=None):\n",
    " headlines.add(submission.title)\n",
    " headlines.add(submission.created_utc)\n",
    "print(len(headlines))"
   ]
  },
  {
   "cell_type": "code",
   "execution_count": 7,
   "metadata": {},
   "outputs": [
    {
     "data": {
      "text/html": [
       "<div>\n",
       "<style scoped>\n",
       "    .dataframe tbody tr th:only-of-type {\n",
       "        vertical-align: middle;\n",
       "    }\n",
       "\n",
       "    .dataframe tbody tr th {\n",
       "        vertical-align: top;\n",
       "    }\n",
       "\n",
       "    .dataframe thead th {\n",
       "        text-align: right;\n",
       "    }\n",
       "</style>\n",
       "<table border=\"1\" class=\"dataframe\">\n",
       "  <thead>\n",
       "    <tr style=\"text-align: right;\">\n",
       "      <th></th>\n",
       "      <th>0</th>\n",
       "    </tr>\n",
       "  </thead>\n",
       "  <tbody>\n",
       "    <tr>\n",
       "      <th>0</th>\n",
       "      <td>1700141056.0</td>\n",
       "    </tr>\n",
       "    <tr>\n",
       "      <th>1</th>\n",
       "      <td>Suella Braverman's releases scathing letter ta...</td>\n",
       "    </tr>\n",
       "    <tr>\n",
       "      <th>2</th>\n",
       "      <td>1700159491.0</td>\n",
       "    </tr>\n",
       "    <tr>\n",
       "      <th>3</th>\n",
       "      <td>1700139012.0</td>\n",
       "    </tr>\n",
       "    <tr>\n",
       "      <th>4</th>\n",
       "      <td>1700173829.0</td>\n",
       "    </tr>\n",
       "  </tbody>\n",
       "</table>\n",
       "</div>"
      ],
      "text/plain": [
       "                                                   0\n",
       "0                                       1700141056.0\n",
       "1  Suella Braverman's releases scathing letter ta...\n",
       "2                                       1700159491.0\n",
       "3                                       1700139012.0\n",
       "4                                       1700173829.0"
      ]
     },
     "execution_count": 7,
     "metadata": {},
     "output_type": "execute_result"
    }
   ],
   "source": [
    "#Create a dataframe from the scrapped data \n",
    "news_df = pd.DataFrame(headlines)\n",
    "news_df.head()"
   ]
  },
  {
   "cell_type": "code",
   "execution_count": 8,
   "metadata": {},
   "outputs": [
    {
     "data": {
      "text/plain": [
       "'2023-11-16 21:56:10 UTC'"
      ]
     },
     "execution_count": 8,
     "metadata": {},
     "output_type": "execute_result"
    }
   ],
   "source": [
    "datetime_object = datetime.utcfromtimestamp(news_df.iloc[1205, 0])\n",
    "datetime_object.strftime('%Y-%m-%d %H:%M:%S UTC')"
   ]
  },
  {
   "cell_type": "code",
   "execution_count": 9,
   "metadata": {},
   "outputs": [
    {
     "name": "stdout",
     "output_type": "stream",
     "text": [
      "<class 'pandas.core.frame.DataFrame'>\n",
      "RangeIndex: 1208 entries, 0 to 1207\n",
      "Data columns (total 1 columns):\n",
      " #   Column  Non-Null Count  Dtype \n",
      "---  ------  --------------  ----- \n",
      " 0   0       1208 non-null   object\n",
      "dtypes: object(1)\n",
      "memory usage: 9.6+ KB\n"
     ]
    }
   ],
   "source": [
    "news_df.info()"
   ]
  },
  {
   "cell_type": "code",
   "execution_count": 10,
   "metadata": {},
   "outputs": [
    {
     "name": "stdout",
     "output_type": "stream",
     "text": [
      "545\n"
     ]
    }
   ],
   "source": [
    "headlines = set()\n",
    "for submission in reddit.subreddit(\"worldnews\").new(limit=None):\n",
    " if submission.created_utc > start_date.timestamp():\n",
    "    headlines.add(submission.title)\n",
    "print(len(headlines))"
   ]
  },
  {
   "cell_type": "code",
   "execution_count": 11,
   "metadata": {},
   "outputs": [],
   "source": [
    "# Get news from the specified day\n",
    "start_date = datetime(2023, 11, 19, 0, 0, 0)\n",
    "end_date = datetime(2023, 11, 19, 23, 59, 59)\n",
    "\n",
    "# Convert start and end times to Unix timestamp\n",
    "start_timestamp = start_date.timestamp()\n",
    "end_timestamp = end_date.timestamp()\n",
    "\n",
    "headlines = set()\n",
    "for submission in reddit.subreddit(\"worldnews\").hot(limit=10):\n",
    "   if start_timestamp <= submission.created_utc <= end_timestamp:\n",
    "       headlines.add(submission.title)"
   ]
  },
  {
   "cell_type": "code",
   "execution_count": 12,
   "metadata": {},
   "outputs": [
    {
     "data": {
      "text/plain": [
       "{\"'I'm being cut off from my family': Finland's Russian community hits out against border closures. At a protest in the capital, people raised concerns about a new 'Iron Curtain'.\",\n",
       " '/r/WorldNews Live Thread: Russian Invasion of Ukraine Day 634, Part 1 (Thread #780)',\n",
       " '31 premature babies safely evacuated from Shifa Hospital to southern Gaza, WHO says',\n",
       " 'Biden warns U.S. could sanction Israeli settlers who attack Palestinians',\n",
       " \"By supporting Ukraine, we're keeping American troops out of the war – US President\",\n",
       " 'EU strikes deal on new ‘ecocide’ rules to put polluters in jail',\n",
       " 'Russia moves to ban ‘international LGBT public movement’ for ‘extremism’',\n",
       " 'Russian general critical of army found dead, along with his wife',\n",
       " 'Saudi Media reports Houthi rebels take Israeli cargo ship'}"
      ]
     },
     "execution_count": 12,
     "metadata": {},
     "output_type": "execute_result"
    }
   ],
   "source": [
    "headlines"
   ]
  },
  {
   "cell_type": "code",
   "execution_count": 13,
   "metadata": {},
   "outputs": [
    {
     "data": {
      "text/plain": [
       "set()"
      ]
     },
     "execution_count": 13,
     "metadata": {},
     "output_type": "execute_result"
    }
   ],
   "source": [
    "# Define the start and end times for the day\n",
    "start_date = datetime(2023, 10, 19, 0, 0, 0)\n",
    "end_date = datetime(2023, 10, 19, 23, 59, 59)\n",
    "\n",
    "start_timestamp = start_date.timestamp()\n",
    "end_timestamp = end_date.timestamp()\n",
    "\n",
    "headlines = set()\n",
    "for submission in reddit.subreddit(\"worldnews\").new(limit=10):\n",
    "   if start_timestamp <= submission.created_utc <= end_timestamp:\n",
    "       headlines.add(submission.title)\n",
    "\n",
    "headlines"
   ]
  },
  {
   "cell_type": "markdown",
   "metadata": {},
   "source": [
    "Seems like I can't do it for certain days\n",
    "\n",
    "trying this method\n",
    "\n",
    "https://github.com/dmarx/psaw\n",
    "\n",
    "didn't work :("
   ]
  },
  {
   "cell_type": "code",
   "execution_count": 18,
   "metadata": {},
   "outputs": [
    {
     "data": {
      "text/html": [
       "<div>\n",
       "<style scoped>\n",
       "    .dataframe tbody tr th:only-of-type {\n",
       "        vertical-align: middle;\n",
       "    }\n",
       "\n",
       "    .dataframe tbody tr th {\n",
       "        vertical-align: top;\n",
       "    }\n",
       "\n",
       "    .dataframe thead th {\n",
       "        text-align: right;\n",
       "    }\n",
       "</style>\n",
       "<table border=\"1\" class=\"dataframe\">\n",
       "  <thead>\n",
       "    <tr style=\"text-align: right;\">\n",
       "      <th></th>\n",
       "      <th>Title</th>\n",
       "      <th>Post Text</th>\n",
       "    </tr>\n",
       "  </thead>\n",
       "  <tbody>\n",
       "  </tbody>\n",
       "</table>\n",
       "</div>"
      ],
      "text/plain": [
       "Empty DataFrame\n",
       "Columns: [Title, Post Text]\n",
       "Index: []"
      ]
     },
     "execution_count": 18,
     "metadata": {},
     "output_type": "execute_result"
    }
   ],
   "source": [
    "subreddit = reddit.subreddit(\"worldnews\")\n",
    "\n",
    "posts = subreddit.top(time_filter = \"all\", limit = None)\n",
    " \n",
    "posts_dict = {\"Title\": [], \"Post Text\": []}\n",
    "\n",
    "start_date = datetime(2023, 10, 19, 0, 0, 0).timestamp()\n",
    "end_date = datetime(2023, 10, 19, 23, 59, 59).timestamp()\n",
    "\n",
    "for post in posts:\n",
    "    date = post.created_utc\n",
    "    if date > start_date and date < end_date:\n",
    "        posts_dict[\"Title\"].append(post.title)\n",
    "        posts_dict[\"Post Text\"].append(post.selftext)\n",
    "        \n",
    "all_posts = pd.DataFrame(posts_dict)\n",
    "all_posts"
   ]
  },
  {
   "cell_type": "code",
   "execution_count": null,
   "metadata": {},
   "outputs": [],
   "source": [
    "import requests\n",
    "from datetime import datetime\n",
    "\n",
    "def get_top_news(api_key, date):\n",
    "    # Format the date\n",
    "    formatted_date = date.strftime(\"%Y-%m-%d\")\n",
    "\n",
    "    url = f'https://newsapi.org/v2/everything?q=&from={formatted_date}&to={formatted_date}&apiKey={api_key}'\n",
    "    response = requests.get(url)\n",
    "\n",
    "    if response.status_code == 200:\n",
    "        data = response.json()\n",
    "        articles = data.get('articles', [])\n",
    "        return [article['title'] for article in articles]\n",
    "    else:\n",
    "        print(f\"Error {response.status_code}: {response.text}\")\n",
    "        return None\n",
    "\n",
    "if __name__ == \"__main__\":\n",
    "    # Replace 'YOUR_API_KEY' with your actual News API key\n",
    "    api_key = '25b33ca710ad42968acc183a39eb7567'\n",
    "    \n",
    "    # Replace '2022-01-01' with the date you're interested in\n",
    "    date_to_fetch = datetime.strptime('2022-01-01', '%Y-%m-%d')\n",
    "\n",
    "    news_titles = get_top_news(api_key, date_to_fetch)\n",
    "\n",
    "    if news_titles:\n",
    "        print(f\"Top news titles for {date_to_fetch.strftime('%Y-%m-%d')}:\\n\")\n",
    "        for i, title in enumerate(news_titles, 1):\n",
    "            print(f\"{i}. {title}\")\n",
    "    else:\n",
    "        print(\"Failed to fetch news titles.\")\n"
   ]
  }
 ],
 "metadata": {
  "kernelspec": {
   "display_name": "time_series_pro",
   "language": "python",
   "name": "python3"
  },
  "language_info": {
   "codemirror_mode": {
    "name": "ipython",
    "version": 3
   },
   "file_extension": ".py",
   "mimetype": "text/x-python",
   "name": "python",
   "nbconvert_exporter": "python",
   "pygments_lexer": "ipython3",
   "version": "3.11.5"
  }
 },
 "nbformat": 4,
 "nbformat_minor": 2
}
